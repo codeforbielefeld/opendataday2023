{
 "cells": [
  {
   "attachments": {},
   "cell_type": "markdown",
   "metadata": {},
   "source": [
    "# Open Data - Was, wie und wozu?\n",
    "\n",
    "Anlässlich des Open Data Day 2023 möchten wir praktisch und plastisch vorstellen\n",
    "- was offene Daten sind, \n",
    "- wie sie zur Anzeige gebracht werden und\n",
    "- wozu sie beispielhaft dienen können.\n",
    "\n",
    "Hierbei konzentrieren wir uns auf zwei Datenquellen:\n",
    "1. Das Open Data-Portal der Stadt Bielefeld\n",
    "2. Die offenen Daten des Projekts sensor.community\n",
    "\n",
    "Für den Workshop ist kein besonderes Vorwissen nötig, lediglich eine stabile Internetverbindung und das Interesse, ein wenig Programmiercode näher gebracht zu bekommen. Insbesondere ist der Workshop auch für alle Open Data-Neulinge geeignet. \n",
    "\n",
    "***\n",
    "\n",
    "Agenda:\n",
    "\n",
    "1. Sehr kurze Einführung in Python\n",
    "2. Visualisierung eines Datensatzes des Open Data-Portals der Stadt Bielefeld\n",
    "3. Zugriff auf Daten der Feinstaubsensoren in Bielefeld\n",
    "4. Zeichnen einer interaktiven Karte"
   ]
  },
  {
   "attachments": {},
   "cell_type": "markdown",
   "metadata": {},
   "source": [
    "## Sehr kurze Einführung in Python\n",
    "Python ist eine sehr verbreitete Programmiersprache zur Auswertung und Visualisierung von Daten jeglicher Art.\n",
    "\n",
    "**Achtung**: Die Strukturierung und damit die richtige Funktionsweise von Code-Teilen wird nicht wie bei einigen anderen Programmiersprachen über Klammern geregelt, sondern über die Einrückungen des Codes. Entsprechend wichtig ist es auf die Leerzeichen am Anfang einer Zeile zu achten.\n",
    "\n",
    "Bei der Programmierung in Python gibt es verschiedene Grundobjekte und eingebaute Funktionen, welche genutzt werden können. So wird durch `a = 1` einer Variablen `a` der Zahlenwert `1` zugewiesen. Oder duch `b='Bielefeld'` steht die Variable `b` für die Zeichenfolge `Bielefeld`.\n",
    "\n",
    "### Bausteine\n",
    "Ähnlich wie in anderen Programmiersprachen gibt es eine Reihe an Grundfunktionen und -objekten, auf denen alles aufgebaut ist. Dazu gehören unter anderem Schleifen, Datentypen wie Ganzzahlen und Zeichenfolgen, sowie Listen. Eine Übersicht findet sich [hinter diesem Link](https://www.python-kurs.eu/python3_variablen.php), wir beschränken uns auf Beispiele. "
   ]
  },
  {
   "cell_type": "code",
   "execution_count": null,
   "metadata": {},
   "outputs": [],
   "source": [
    "# for-Schleife\n",
    "for i in [1, 2, 3, 4]:\n",
    "    print(i)"
   ]
  },
  {
   "cell_type": "code",
   "execution_count": null,
   "metadata": {},
   "outputs": [],
   "source": [
    "#  while-Schleife\n",
    "i = 1\n",
    "while i <= 4:\n",
    "    print(i)\n",
    "    i += 1    "
   ]
  },
  {
   "cell_type": "code",
   "execution_count": null,
   "metadata": {},
   "outputs": [],
   "source": [
    "# If-Else-Bedingungen\n",
    "# Code innerhalb der if-Bedingung wird nur ausgeführt, wenn die if-Bedingung wahr ist.\n",
    "for i in [0, 1]:\n",
    "    if i == 1:\n",
    "        print(i, ': ', True)\n",
    "    else:\n",
    "        print(i, ': ', False)"
   ]
  },
  {
   "cell_type": "markdown",
   "metadata": {},
   "source": [
    "### Funktionen\n",
    "Zur besseren Strukturierung, Wiederverwendbarkeit und Lesbarkeit sollten klar abgrenzbare Codeschnipsel mit wohldefinierten Methodennamen in Funktionen gezogen werden. Eine Methode kann Übergabeparameter entgegennehmen, die innerhalb der Methode genutzt und / oder verändert werden. Gleichzeitig kann die Methode zum Schluss keinen, einen oder mehrere Werte als Rückgabeparameter über das Wort \"return\" zurückgeben."
   ]
  },
  {
   "cell_type": "code",
   "execution_count": null,
   "metadata": {},
   "outputs": [],
   "source": [
    "# Methode definieren\n",
    "def get_center_value(values: [int]):\n",
    "    center_index: int = int(len(values) / 2)\n",
    "    return values[center_index]\n",
    "\n",
    "# Übergabeparameter definieren\n",
    "values = [1, 2, 3, 4, 5]\n",
    "\n",
    "# Methode aufrufen\n",
    "center_value = get_center_value(values)\n",
    "print('Center value: ', center_value)"
   ]
  },
  {
   "attachments": {},
   "cell_type": "markdown",
   "metadata": {},
   "source": [
    "## Pakete\n",
    "Auf Basis obiger Funktionalitäten werden sogenannte Pakete (engl. Packages) programmiert, welche bestimmte Aufgaben erfüllen. Wir werden insbesondere die Pakete [pandas]() und [plotly]() verwenden. Hierbei dient `pandas` der Verarbeitung, Verwaltung und Analyse von Daten, während die Visualisierung über `plotly` erfolgt."
   ]
  },
  {
   "cell_type": "code",
   "execution_count": null,
   "metadata": {
    "scrolled": true
   },
   "outputs": [],
   "source": [
    "! pip install pandas plotly"
   ]
  },
  {
   "cell_type": "code",
   "execution_count": null,
   "metadata": {
    "scrolled": true
   },
   "outputs": [],
   "source": [
    "# Zur späteren Verwendung eines Pakets muss es in die aktuelle Umgebung importiert werden.\n",
    "import pandas as pd\n",
    "import plotly.express as px"
   ]
  },
  {
   "attachments": {},
   "cell_type": "markdown",
   "metadata": {},
   "source": [
    "## Visualisierung eines Datensatzes des Open Data-Portals der Stadt Bielefeld\n",
    "\n",
    "[<img src=\"img/OpenDataBielefeld.png\">](https://open-data.bielefeld.de/)\n",
    "\n",
    "Zunächst möchten wir uns Daten des Portals zur Anzeige bringen. Hierzu verwenden wir die [Wahlergebnisse der NRW-Landtagswahl 2022](https://open-data.bielefeld.de/dataset/landtagswahl-2022)."
   ]
  },
  {
   "attachments": {},
   "cell_type": "markdown",
   "metadata": {},
   "source": [
    "Ein Hauptmerkmal von Offenen Daten ist es, dass sie in einem Format vorliegen, welche maschinell eingelesen werden können. Die Wahlergebnisse hier werden als CSV-Datei bereitgestellt, die zugehörige URL kann angezeigt werden, indem mit der Maus über die Schaltfläche *Herunterladen* gegangen wird.\n",
    "\n",
    "[<img src=\"img/OpenDataBielefeld_2.png\">](https://open-data.bielefeld.de/dataset/landtagswahl-2022)"
   ]
  },
  {
   "attachments": {},
   "cell_type": "markdown",
   "metadata": {},
   "source": [
    "Mit dieser URL als Einstieg können wir nun die Wahlergebnisse analysieren und visualisieren. In kleinen Schritten werden wir nun den Datensatz so aufbereiten, dass wir die Erst- und Zweitstimmen des Stadtbezirks *Mitte* in einem Tortendiagramm darstellen können."
   ]
  },
  {
   "cell_type": "code",
   "execution_count": null,
   "metadata": {},
   "outputs": [],
   "source": [
    "# Speichere die URL zum Datensatz in eine Variable\n",
    "url_landtagswahl2022 = 'https://open-data.bielefeld.de/sites/default/files/Landtagswahl_2022.csv'\n",
    "\n",
    "# Lies die Daten mithilfe von pandas und der URL ein\n",
    "df = pd.read_csv(url_landtagswahl2022)"
   ]
  },
  {
   "cell_type": "code",
   "execution_count": null,
   "metadata": {},
   "outputs": [],
   "source": [
    "# Ausgabe der ersten 5 Zeilen\n",
    "df.head(5)"
   ]
  },
  {
   "cell_type": "code",
   "execution_count": null,
   "metadata": {},
   "outputs": [],
   "source": [
    "# Hier scheint etwas nicht zu stimmen. Trotz des CSV-Formats (CSV steht für Comma-seperated values) ist das Trennzeichen ein ';', \n",
    "# welches wir in der Einlesefunktion verwenden müssen\n",
    "df = pd.read_csv(\n",
    "    url_landtagswahl2022,\n",
    "    sep = \";\"\n",
    ")\n"
   ]
  },
  {
   "cell_type": "code",
   "execution_count": null,
   "metadata": {},
   "outputs": [],
   "source": [
    "# Ausgabe der ersten 50 Zeilen\n",
    "df.head(50)"
   ]
  },
  {
   "attachments": {},
   "cell_type": "markdown",
   "metadata": {},
   "source": [
    "Der Datensatz hat 56 Spalten, welche nicht alle angezeigt werden. Daher lassen wir uns die Liste aller Spaltennamen ausgeben, damit wir im Anschluss nur die relevanten Spalten berücksichtigen."
   ]
  },
  {
   "cell_type": "code",
   "execution_count": null,
   "metadata": {},
   "outputs": [],
   "source": [
    "# Ausgabe aller Spaltennamen\n",
    "df.columns"
   ]
  },
  {
   "attachments": {},
   "cell_type": "markdown",
   "metadata": {},
   "source": [
    "Nun bereiten wir in mehreren kleinen Schritten die Tabelle, welche den `pandas`-Typ `DataFrame` besitzt, zur grafischen Darstellung auf. Ziel ist es, sowohl die Erst- als auch die Zweitstimmen für den Stadtbezirk *Mitte* anzeigen zu lassen."
   ]
  },
  {
   "cell_type": "code",
   "execution_count": null,
   "metadata": {},
   "outputs": [],
   "source": [
    "# Erzeuge einen gesonderten DataFrame für den Stadtbezirk Mitte\n",
    "df_mitte = df[ df['Stadtbezirk'] == 'Mitte' ]"
   ]
  },
  {
   "cell_type": "code",
   "execution_count": null,
   "metadata": {},
   "outputs": [],
   "source": [
    "# Ausgabe der ersten 10 Zeilen\n",
    "df_mitte.head(10)"
   ]
  },
  {
   "cell_type": "code",
   "execution_count": null,
   "metadata": {},
   "outputs": [],
   "source": [
    "# Wir haben oben gesehen, dass die Spalten mit 'D' am Anfang die Erststimmen, und diejenigen mit 'F' am Anfang die Zweitstimmen repräsentieren.\n",
    "# Entsprechend erzeugen wir neue DataFrames.\n",
    "df_mitte_erststimme = df_mitte[[col_name for col_name in df_mitte.columns if col_name.startswith('D')]]\n",
    "df_mitte_zweitstimme = df_mitte[[col_name for col_name in df_mitte.columns if col_name.startswith('F')]]"
   ]
  },
  {
   "cell_type": "code",
   "execution_count": null,
   "metadata": {},
   "outputs": [],
   "source": [
    "# Ausgabe der ersten 10 Zeilen\n",
    "df_mitte_erststimme.head(10)"
   ]
  },
  {
   "cell_type": "code",
   "execution_count": null,
   "metadata": {},
   "outputs": [],
   "source": [
    "# Nun müssen wir jeweils noch (a) die Spalte mit den gültigen Gesamtstimmen entfernen, \n",
    "# (b) für den Stadtbezirk alle Stimmen der Stimmbezirke aufsummieren und \n",
    "# (c) die Spaltennamen anpassen.\n",
    "df_mitte_erststimme_summen = df_mitte_erststimme.sum(axis=0).to_frame()\n",
    "df_mitte_erststimme_summen.drop('D - Gültige Erststimmen', inplace=True)\n",
    "df_mitte_erststimme_summen['Partei'] = [ partei.split('-')[1].replace('Erststimmen','').replace('Erstimmen','').strip() for partei in df_mitte_erststimme_summen.index]\n",
    "df_mitte_erststimme_summen.columns = ['Erststimmen', 'Partei']\n",
    "\n",
    "df_mitte_zweitstimme_summen = df_mitte_zweitstimme.sum(axis=0).to_frame()\n",
    "df_mitte_zweitstimme_summen.drop('F - Gültige Zweitstimmen', inplace=True)\n",
    "df_mitte_zweitstimme_summen['Partei'] = [ partei.split('-')[1].replace('Zweitstimmen','').strip() for partei in df_mitte_zweitstimme_summen.index]\n",
    "df_mitte_zweitstimme_summen.columns = ['Zweitstimmen', 'Partei']"
   ]
  },
  {
   "cell_type": "code",
   "execution_count": null,
   "metadata": {},
   "outputs": [],
   "source": [
    "# Ausgabe der ersten 10 Zeilen\n",
    "df_mitte_erststimme_summen.head(10)"
   ]
  },
  {
   "cell_type": "code",
   "execution_count": null,
   "metadata": {},
   "outputs": [],
   "source": [
    "fig = px.pie(df_mitte_erststimme_summen, values='Erststimmen', names='Partei', title='Stadtbezirk Mitte - Erststimmen')\n",
    "fig.show()"
   ]
  },
  {
   "cell_type": "code",
   "execution_count": null,
   "metadata": {},
   "outputs": [],
   "source": [
    "fig = px.pie(df_mitte_zweitstimme_summen, values='Zweitstimmen', names='Partei', title='Stadtbezirk Mitte - Zweitstimmen')\n",
    "fig.show()"
   ]
  },
  {
   "attachments": {},
   "cell_type": "markdown",
   "metadata": {},
   "source": [
    "Das war unser erster Datensatz des Workshops. Wir haben gesehen, dass eine CSV-Datei unter Angabe einer URL eingelesen, in kleinen Schritten die Inhalte gefiltert und für die Anzeige in einem Tortendiagramm vorbereitet werden können.\n",
    "\n",
    "Das gleiche Ergebnis hätte sich auch mit Hilfe eines Programms wie Excel erzeugen lassen - das Potenzial der maschinellen Verarbeitet zeigt sich beispielhaft an unserem nächsten Datensatz."
   ]
  },
  {
   "attachments": {},
   "cell_type": "markdown",
   "metadata": {},
   "source": [
    "## Zugriff auf Daten der Feinstaubsensoren in Bielefeld\n",
    "\n",
    "Im Rahmen von [Code for Bielefeld](https://codefor.de/bielefeld) beschäftigen wir uns unter anderem mit der Erhebung und Auswertung von Feinstaubdaten im Stadtgebiet. Wer sich einen Eindruck über die aktuell im Einsatz befindlichen Sensoren machen möchte, der kann diese auf [sensor.community](https://sensor.community/de/) nachschauen.\n",
    "\n",
    "[<img src=\"img/SensorCommunity_1.png\">](https://sensor.community/de/)\n",
    "\n",
    "Wer selbst Interesse hat einen Feinstaubsensor in Betrieb zu nehmen, der findet [hier](https://sensor.community/de/sensors/airrohr/) eine Anleitung oder kann sich den [NW-Beitrag](https://www.nw.de/lokal/bielefeld/mitte/22873870_Sich-einfach-mal-selbst-einen-Feinstaubsensor-bauen-und-auch-aufhaengen.html) zu unserem Familienworkshop Anfang Oktober 2020 Jahres durchlesen.\n",
    "\n",
    "Die Sensoren übermitteln per WLAN die Messdaten alle 5 Minuten an die Plattform von [sensor.community](https://sensor.community/de/), welche wir im Folgenden nutzen."
   ]
  },
  {
   "attachments": {},
   "cell_type": "markdown",
   "metadata": {},
   "source": [
    "Zunächst laden wir notwendige weitere Pakete."
   ]
  },
  {
   "cell_type": "code",
   "execution_count": null,
   "metadata": {},
   "outputs": [],
   "source": [
    "import requests"
   ]
  },
  {
   "attachments": {},
   "cell_type": "markdown",
   "metadata": {},
   "source": [
    "Zum einen haben wir die Möglichkeit, die Daten der letzten 5 Minuten eines beliebigen Sensors per Schnittstelle - eine sogenannte REST-API - abzufragen.\n",
    "\n",
    "Wir haben uns auf der interaktiven Karte der [sensor.community](https://sensor.community/de/) einen Sensor in der Innenstadt mit der ID `19366` herausgesucht.\n",
    "\n",
    "[<img src=\"img/SensorCommunity_2.png\">](https://sensor.community/de/)"
   ]
  },
  {
   "cell_type": "code",
   "execution_count": null,
   "metadata": {},
   "outputs": [],
   "source": [
    "url = \"https://data.sensor.community/airrohr/v1/sensor/49366/\"\n",
    "res = requests.get(url)\n",
    "print(res.text)"
   ]
  },
  {
   "cell_type": "code",
   "execution_count": null,
   "metadata": {},
   "outputs": [],
   "source": [
    "df_49366 = pd.read_json(res.text)\n",
    "df_49366"
   ]
  },
  {
   "cell_type": "code",
   "execution_count": null,
   "metadata": {},
   "outputs": [],
   "source": [
    "df_49366_values = pd.DataFrame(df_49366['sensordatavalues'][0])\n",
    "df_49366_values"
   ]
  },
  {
   "attachments": {},
   "cell_type": "markdown",
   "metadata": {},
   "source": [
    "Eine zweite Möglichkeit besteht darin, bereits archivierte Daten von dem [Archiv](https://archive.sensor.community/) der [sensor.community](https://sensor.community/de/) abzufragen."
   ]
  },
  {
   "cell_type": "code",
   "execution_count": null,
   "metadata": {},
   "outputs": [],
   "source": [
    "df_sensor_49366 = pd.read_csv('https://archive.sensor.community/2023-02-23/2023-02-23_sds011_sensor_49366.csv', sep=';')\n",
    "df_sensor_49366"
   ]
  },
  {
   "attachments": {},
   "cell_type": "markdown",
   "metadata": {},
   "source": [
    "Für die zukünftige Nutzung müssen wir den Zeitstempel in einen gültigen Datentyp konvertieren."
   ]
  },
  {
   "cell_type": "code",
   "execution_count": null,
   "metadata": {},
   "outputs": [],
   "source": [
    "df_sensor_49366['timestamp'] = pd.to_datetime(df_sensor_49366['timestamp'], format='%Y-%m-%dT%H:%M:%S')\n",
    "df_sensor_49366"
   ]
  },
  {
   "cell_type": "markdown",
   "metadata": {},
   "source": [
    "### Plotly zur Datenvisualisierung\n",
    "\n",
    "Zur Darstellung der Messdaten verwenden wir die Bibliothek [https://plotly.com/python/](Plotly). Eine Vielzahl von Beispielen wie verschiedene Datentypen zur Anzeige gebracht werden können, sind dort zu finden."
   ]
  },
  {
   "cell_type": "code",
   "execution_count": null,
   "metadata": {},
   "outputs": [],
   "source": [
    "import plotly.express as px"
   ]
  },
  {
   "cell_type": "markdown",
   "metadata": {},
   "source": [
    "Als ersten Plot stellen wir die Daten der Spalte `P1` zum Zeitstempel dar:"
   ]
  },
  {
   "cell_type": "code",
   "execution_count": null,
   "metadata": {},
   "outputs": [],
   "source": [
    "fig = px.line(df_sensor_49366, x='timestamp', y=\"P1\", template=\"plotly_white\")\n",
    "fig.show()"
   ]
  },
  {
   "cell_type": "markdown",
   "metadata": {},
   "source": [
    "An dieser Stelle sei erwähnt, dass die Spalte `P1` für die Feinstaubdaten des Typs `PM10` stehen, und `P2` für die des Typs `PM2.5`. Dementsprechend handelt es sich bei `P2` um die gesundheitlich schädlicheren Daten, da diese Partikel besonders fein sind und in die Lunge eindringen können.\n",
    "\n",
    "Bilden wir also `P1` und `P2` gemeinsam ab:"
   ]
  },
  {
   "cell_type": "code",
   "execution_count": null,
   "metadata": {},
   "outputs": [],
   "source": [
    "fig = px.line(\n",
    "    df_sensor_49366[['timestamp','P1','P2']], \n",
    "    x=\"timestamp\",\n",
    "    y=df_sensor_49366[['timestamp','P1','P2']].columns,\n",
    "    title='Feinstaubdaten des Sensors 49366 am 23.02.2023')\n",
    "fig.show()"
   ]
  },
  {
   "attachments": {},
   "cell_type": "markdown",
   "metadata": {},
   "source": [
    "### Entwicklung von Funktionen zur Verarbeitung von Zeiträumen\n",
    "\n",
    "Wenn wir nicht nur einzelne Tage betrachten wollen, sondern ganze Zeitspannen, dann ist das händische Vorgehen von oben sehr müßig.  <br>Entsprechend bauen wir uns nun schrittweise eigene Funktionen zusammen, welche uns eine gebündelte Auswertung ermöglichen.\n",
    "\n",
    "Wir starten mit der Frage: \"Was müssen wir tun, um alle Daten seit dem Beginn von 2023 abzurufen?\" <br>\n",
    "Nun, wir müssen wir jeden Tag die entsprechende URL generieren, die einzelnen Datensätze herunterladen und zuletzt zusammensetzen. Gehen wir es also an.\n",
    "\n",
    "Zunächst generieren wir alle Tage seit Jahresbeginn und formatieren diese entsprechend der Ziel-URL."
   ]
  },
  {
   "attachments": {},
   "cell_type": "markdown",
   "metadata": {},
   "source": [
    "Als Zwischenschritt - und weil wir die Daten zu einem späteren Zeitpunkt benötigen werden - rufen wir alle Sensoren im Bielefelder Stadtgebiet über die API ab."
   ]
  },
  {
   "cell_type": "code",
   "execution_count": null,
   "metadata": {},
   "outputs": [],
   "source": [
    "import json\n",
    "\n",
    "# Alle Sensordaten im Bereich Bielefeld runterladen\n",
    "url = 'https://data.sensor.community/airrohr/v1/filter/box=51.9,8.3,52.1,8.7'\n",
    "res = requests.get(url)\n",
    "data = json.loads(res.text)\n",
    "\n",
    "# Daten als pandas DataFrame laden\n",
    "df_sensor_bielefeld = pd.json_normalize(data)\n",
    "\n",
    "df_sensor_bielefeld"
   ]
  },
  {
   "attachments": {},
   "cell_type": "markdown",
   "metadata": {},
   "source": [
    "Zurück also zur Generierung der URL's für den Datendownload..."
   ]
  },
  {
   "cell_type": "code",
   "execution_count": null,
   "metadata": {},
   "outputs": [],
   "source": [
    "from datetime import datetime\n",
    "start = datetime(2023, 1, 1)\n",
    "end = datetime.today()\n",
    "list_dates = pd.date_range(start, end).tolist()\n",
    "list_dates = [x.strftime(\"%Y-%m-%d\") for x in list_dates]\n",
    "list_dates[:5]"
   ]
  },
  {
   "cell_type": "markdown",
   "metadata": {},
   "source": [
    "Dann erzeugen wir eine Liste mit allen URLs unter zu Hilfe nahme der obigen Datumsliste:"
   ]
  },
  {
   "cell_type": "code",
   "execution_count": null,
   "metadata": {},
   "outputs": [],
   "source": [
    "url_front = 'https://archive.sensor.community/'\n",
    "url_back = '_sds011_sensor_49366.csv'\n",
    "list_url = [url_front + x + '/' + x + url_back for x in list_dates]\n",
    "list_url[:5]"
   ]
  },
  {
   "cell_type": "markdown",
   "metadata": {},
   "source": [
    "Da Daten erst mit einem Tag Versatz archiviert werden, müssen wir die letzte URL ausschließen, welche auf den heutigen Tag zugreifen würde:"
   ]
  },
  {
   "cell_type": "code",
   "execution_count": null,
   "metadata": {},
   "outputs": [],
   "source": [
    "list_url.pop()"
   ]
  },
  {
   "attachments": {},
   "cell_type": "markdown",
   "metadata": {},
   "source": [
    "Wir sehen, dass wir in obiger URL neben der Sensor-ID auch den Sensortyp - im Beispiel hier also `sds011` benötigen. In unserem bereits eingeladenen Datensatz gibt es hierfür eine entsprechende Spalte."
   ]
  },
  {
   "cell_type": "code",
   "execution_count": null,
   "metadata": {},
   "outputs": [],
   "source": [
    "# Sensortyp des Sensors 49366 für Download URL holen\n",
    "sensor_type_49366 = df_sensor_49366['sensor_type'].iloc[0].lower()\n",
    "sensor_type_49366"
   ]
  },
  {
   "attachments": {},
   "cell_type": "markdown",
   "metadata": {},
   "source": [
    "Wir legen uns eine Funktion an, welche um anhand der Daten und der Sensor ID überprüftn, ob der Sensor 'indoor' ist. Diese Information wird im Positivfall an die Download URL gehängt. Dies deckt also einen Spezialfall ab. "
   ]
  },
  {
   "cell_type": "code",
   "execution_count": null,
   "metadata": {},
   "outputs": [],
   "source": [
    "def is_indoor(id: int, data: pd.DataFrame):\n",
    "    indoor = data[data['sensor.id'] == id]['location.indoor'].unique()[0]\n",
    "    if indoor == 0:\n",
    "        return False\n",
    "    else:\n",
    "        return True\n",
    "\n",
    "is_indoor(56514, df_sensor_bielefeld)"
   ]
  },
  {
   "cell_type": "markdown",
   "metadata": {},
   "source": [
    "Obige Schritte fassen wir in einer Funktion zusammen, sodass wir sie einfacher verwenden können:"
   ]
  },
  {
   "cell_type": "code",
   "execution_count": null,
   "metadata": {},
   "outputs": [],
   "source": [
    "def get_sensor_data_download_urls(id: int, dates: [str], sensor_type: str, indoor: bool):\n",
    "    url_front = 'https://archive.sensor.community/'\n",
    "    indoor_param = ''\n",
    "    if indoor:\n",
    "        indoor_param = '_indoor'\n",
    "    url_back = '_sensor_' + str(id) + indoor_param + '.csv'\n",
    "    \n",
    "    # URL Beginn für alle Daten generieren (ohne Sensortyp und Sensor ID)\n",
    "    list_url = [url_front + date + '/' + date + '_' + sensor_type + url_back for date in dates]\n",
    "    list_url.pop()\n",
    "    return list_url\n",
    "\n",
    "# Sensortyp vom Sensor \n",
    "sensor_id = 49366\n",
    "list_urls_sensor_49366 = get_sensor_data_download_urls(sensor_id, list_dates, sensor_type_49366, is_indoor(sensor_id, df_sensor_bielefeld))\n",
    "list_urls_sensor_49366[:5]"
   ]
  },
  {
   "cell_type": "code",
   "execution_count": null,
   "metadata": {},
   "outputs": [],
   "source": [
    "sensor_id = 56514\n",
    "list_urls_sensor_56514 = get_sensor_data_download_urls(sensor_id, list_dates, df_sensor_type_49366, is_indoor(sensor_id, df_sensor_bielefeld))\n",
    "list_urls_sensor_56514[:5]"
   ]
  },
  {
   "cell_type": "markdown",
   "metadata": {},
   "source": [
    "Im Anschluss verwenden wir eine `for`-Schleife um die Daten einzeln abzurufen und fügen sie im Anschluss zusammen.\n",
    "\n",
    "ACHTUNG: Durch die Masse an Daten im Archiv dauert der Download eine gewisse Zeit."
   ]
  },
  {
   "cell_type": "code",
   "execution_count": null,
   "metadata": {},
   "outputs": [],
   "source": [
    "list_df_sensor_49366 = list()\n",
    "for url in list_urls_sensor_49366:\n",
    "    list_df_sensor_49366.append(pd.read_csv(url, sep=';'))\n",
    "df_sensor_49366 = pd.concat(list_df_sensor_49366)\n",
    "df_sensor_49366"
   ]
  },
  {
   "cell_type": "markdown",
   "metadata": {},
   "source": [
    "Auch diese Prozessschritte fassen wir in einer Funktion zusammen:"
   ]
  },
  {
   "cell_type": "code",
   "execution_count": null,
   "metadata": {},
   "outputs": [],
   "source": [
    "def get_sensor_data_by_url(urls: [str]):\n",
    "    list_df_sensor = list()\n",
    "    for url in urls:\n",
    "        try:\n",
    "            result = pd.read_csv(url, sep=';')\n",
    "            list_df_sensor.append(result)\n",
    "        except:\n",
    "            None\n",
    "    if len(list_df_sensor) == 0:\n",
    "        return None\n",
    "    df = pd.concat(list_df_sensor)\n",
    "    df['timestamp'] = pd.to_datetime(df['timestamp'], format='%Y-%m-%dT%H:%M:%S')\n",
    "    return df\n",
    "    \n",
    "df_sensor_49366 = get_sensor_data_by_url(list_urls_sensor_49366)\n",
    "df_sensor_49366"
   ]
  },
  {
   "attachments": {},
   "cell_type": "markdown",
   "metadata": {},
   "source": [
    "Wie zuvor können wir uns die Daten in einem Diagramm zur Anzeige bringen und "
   ]
  },
  {
   "cell_type": "code",
   "execution_count": null,
   "metadata": {},
   "outputs": [],
   "source": [
    "df_sensor_49366['timestamp'] = pd.to_datetime(df_sensor_49366['timestamp'], format='%Y-%m-%dT%H:%M:%S')\n",
    "fig = px.line(\n",
    "    df_sensor_49366[['timestamp','P1','P2']], \n",
    "    x=\"timestamp\",\n",
    "    y=df_sensor_49366[['timestamp','P1','P2']].columns,\n",
    "    template=\"plotly_white\",\n",
    "    title='Frainstaubbelastung seit Anfang 2023 für Sensor 49366')\n",
    "fig.show()"
   ]
  },
  {
   "attachments": {},
   "cell_type": "markdown",
   "metadata": {},
   "source": [
    "## Thinking BIG\n",
    "\n",
    "Was können wir - als interessierte BürgerInnen - nun mit diesen Daten weiter anfangen, welche Schlüsse können wir ziehen?\n",
    "\n",
    "Die Sensoren der [sensor.community](https://sensor.community/de/) sind nicht geeicht und werden durch keine offizielle Stelle gewartet. Entsprechend kann die Nulllinie eines jeden Sensors unterschiedlich sein, aber der Unterschied in der Kennlinie eine jeden Sensors erlaubt uns qualitative Vergleiche anzustellen.\n",
    "\n",
    "Es lassen sich zum Beispiel folgende Fragen formulieren:\n",
    "- Wie stark ist die Feinstaubbelastung zu besonderen Anlässen wie Silvester, Kirmes oder durch Baustellenarbeiten?\n",
    "- Wie verteilt sich die Belastung auf die unterschiedlichen Stadtteile?\n",
    "\n",
    "Besonders interessant wäre etwa eine Auswertung, wie die Feinstaubbelastung in den Stadtteilen Gadderbaum und Brackwede von den unterschiedlichen Verkehrsinfrastrukturen beeinflusst wird. Wie hoch ist also der Einfluss von Güter- oder ICE-Zügen und welchen Beitrag besitzt der OWD?"
   ]
  },
  {
   "attachments": {},
   "cell_type": "markdown",
   "metadata": {},
   "source": [
    "Wir möchten hier der Frage nachgehen, wie stark die Feinstaubbelastung durch Silvester ist"
   ]
  },
  {
   "attachments": {},
   "cell_type": "markdown",
   "metadata": {},
   "source": [
    "Wir holen uns alle Sensor IDs für Bielefeld - hierfür hatten wir uns zuvor eine Tabelle mit allen Sensoren im Bielefelder Stadtgebiet abgerufen."
   ]
  },
  {
   "cell_type": "code",
   "execution_count": null,
   "metadata": {},
   "outputs": [],
   "source": [
    "# Alle Sensor IDs für Bielfeld\n",
    "sensor_ids_bielefeld = df_sensor_bielefeld['sensor.id'].unique()\n",
    "\n",
    "sensor_ids_bielefeld"
   ]
  },
  {
   "cell_type": "markdown",
   "metadata": {},
   "source": [
    "Da wir nun wissen, wie die Daten aussehen, können wir uns eine Methode schreiben, um den Namen des Sensortypen eines Sensors holen können."
   ]
  },
  {
   "cell_type": "markdown",
   "metadata": {},
   "source": [
    "Übersicht des Dataframes für Bielefeld..."
   ]
  },
  {
   "cell_type": "code",
   "execution_count": null,
   "metadata": {},
   "outputs": [],
   "source": [
    "df_sensor_bielefeld"
   ]
  },
  {
   "cell_type": "code",
   "execution_count": null,
   "metadata": {},
   "outputs": [],
   "source": [
    "# Sensortyp für Sensor ID holen\n",
    "def get_sensor_type_name_by_id(id: int, data: pd.DataFrame):\n",
    "    sensor_type = data[data['sensor.id'] == id]['sensor.sensor_type.name']\n",
    "    sensor_type = sensor_type.iloc[0].lower()\n",
    "    return sensor_type\n",
    "\n",
    "get_sensor_type_name_by_id(23236, df_sensor_bielefeld)"
   ]
  },
  {
   "attachments": {},
   "cell_type": "markdown",
   "metadata": {},
   "source": [
    "Bevor wir uns um die Silvester-Frage kümmern können, probieren wir aus, wie wir die Daten für mehrere Sensoren gleichzeitig abrufen können."
   ]
  },
  {
   "cell_type": "code",
   "execution_count": null,
   "metadata": {},
   "outputs": [],
   "source": [
    "# Filter die Sensordaten nach dem aktuellen Jahr\n",
    "df_sensor_bielefeld['timestamp'] = pd.to_datetime(df_sensor_bielefeld['timestamp'], format='%Y-%m-%dT%H:%M:%S')\n",
    "df_sensor_bielefeld_2023 = df_sensor_bielefeld[df_sensor_bielefeld['timestamp'].dt.year == 2023]\n",
    "df_sensor_bielefeld_2023"
   ]
  },
  {
   "cell_type": "code",
   "execution_count": null,
   "metadata": {},
   "outputs": [],
   "source": [
    "# Figur für einen Sensor erstellen\n",
    "\n",
    "def create_sensor_figure(data: pd.DataFrame, sensor_id: int):\n",
    "    return px.line(\n",
    "        data[['P1', 'P2', 'timestamp']], \n",
    "        x='timestamp',\n",
    "        y=data[['P1', 'P2', 'timestamp']].columns,\n",
    "        title='Luftdaten Bielefeld 2021 - ' + str(sensor_id),\n",
    "        template=\"plotly_white\")\n",
    "\n",
    "fig = create_sensor_figure(df_sensor_49366, 49366)\n",
    "fig.show()"
   ]
  },
  {
   "cell_type": "code",
   "execution_count": null,
   "metadata": {},
   "outputs": [],
   "source": [
    "list_df_sensor_bielefeld = list()\n",
    "for sensor in sensor_ids_bielefeld[:5]:\n",
    "    sensor_type = get_sensor_type_name_by_id(int(sensor), df_sensor_bielefeld)\n",
    "    download_urls = get_sensor_data_download_urls(sensor, list_dates, sensor_type, is_indoor(sensor, df_sensor_bielefeld))\n",
    "    sensor_data = get_sensor_data_by_url(download_urls)\n",
    "    list_df_sensor_bielefeld.append(sensor_data)\n",
    "\n",
    "df_sensor_bielefeld_2023 = pd.concat(list_df_sensor_bielefeld)\n",
    "df_sensor_bielefeld_2023  "
   ]
  },
  {
   "cell_type": "markdown",
   "metadata": {},
   "source": [
    "Entfernen der nicht validen \"nan\" Werte..."
   ]
  },
  {
   "cell_type": "code",
   "execution_count": null,
   "metadata": {},
   "outputs": [],
   "source": [
    "df_sensor_bielefeld_2023 = df_sensor_bielefeld_2023.dropna(subset=['sensor_id', 'timestamp', 'P1', 'P2'])\n",
    "df_sensor_bielefeld_2023"
   ]
  },
  {
   "cell_type": "code",
   "execution_count": null,
   "metadata": {},
   "outputs": [],
   "source": [
    "# Plot mit P1\n",
    "fig = px.line(\n",
    "        df_sensor_bielefeld_2023, \n",
    "        x=\"timestamp\", y=\"P1\", color=\"sensor_id\", line_group=\"sensor_id\", hover_name=\"sensor_id\",\n",
    "        line_shape=\"spline\", render_mode=\"svg\", template=\"plotly_white\"\n",
    ")\n",
    "fig.show()"
   ]
  },
  {
   "cell_type": "code",
   "execution_count": null,
   "metadata": {},
   "outputs": [],
   "source": [
    "# Plot mit P2\n",
    "fig = px.line(\n",
    "        df_sensor_bielefeld_2023, \n",
    "        x=\"timestamp\", y=\"P2\", color=\"sensor_id\", line_group=\"sensor_id\", hover_name=\"sensor_id\",\n",
    "        line_shape=\"spline\", render_mode=\"svg\", template=\"plotly_white\"\n",
    ")\n",
    "fig.show()"
   ]
  },
  {
   "cell_type": "markdown",
   "metadata": {},
   "source": [
    "## Analyse der Feinstaubveränderungen in Bielefeld zu Silvester 2019 / 2020"
   ]
  },
  {
   "attachments": {},
   "cell_type": "markdown",
   "metadata": {},
   "source": [
    "Wir erstellen eine Liste mit den Tagen für den Zeitraum von Mitte Dezember 2019 bis Mitte Januar 2020."
   ]
  },
  {
   "cell_type": "code",
   "execution_count": null,
   "metadata": {},
   "outputs": [],
   "source": [
    "from datetime import datetime\n",
    "start = datetime(2019, 12, 15)\n",
    "end = datetime(2020, 1, 15)\n",
    "list_dates_silvester_19_20 = pd.date_range(start, end).tolist()\n",
    "list_dates_silvester_19_20 = [x.strftime(\"%Y-%m-%d\") for x in list_dates_silvester_19_20]\n",
    "list_dates_silvester_19_20[:5]"
   ]
  },
  {
   "cell_type": "markdown",
   "metadata": {},
   "source": [
    "Da wir nur die aktuellen Sensor IDs aus den letzten 5 Minuten ziehen können, verändern wir die get_sensor_data_by_url Methode ein wenig..."
   ]
  },
  {
   "cell_type": "code",
   "execution_count": null,
   "metadata": {},
   "outputs": [],
   "source": [
    "def get_sensor_data_by_url(urls: [str]):\n",
    "    list_df_sensor = list()\n",
    "    try:\n",
    "        for url in urls:\n",
    "            result = pd.read_csv(url, sep=';')\n",
    "            list_df_sensor.append(result)\n",
    "    except:\n",
    "        print('Sensor für gegebenen Zeitraum nicht verfügbar:', url)\n",
    "    if len(list_df_sensor) == 0:\n",
    "        return None\n",
    "    df = pd.concat(list_df_sensor)\n",
    "    df['timestamp'] = pd.to_datetime(df['timestamp'], format='%Y-%m-%dT%H:%M:%S')\n",
    "    return df"
   ]
  },
  {
   "cell_type": "markdown",
   "metadata": {},
   "source": [
    "Wir holen uns die Daten für Bielefeld mithilfe dieser Datumsliste"
   ]
  },
  {
   "cell_type": "code",
   "execution_count": null,
   "metadata": {},
   "outputs": [],
   "source": [
    "list_df_sensor_bielefeld_silvester_19_20 = list()\n",
    "for sensor in sensor_ids_bielefeld[10:]:\n",
    "    try:\n",
    "        sensor_type = get_sensor_type_name_by_id(int(sensor), df_sensor_bielefeld)\n",
    "        download_urls = get_sensor_data_download_urls(sensor, list_dates_silvester_19_20, sensor_type, is_indoor(sensor, df_sensor_bielefeld))\n",
    "        sensor_data = get_sensor_data_by_url(download_urls)\n",
    "        if sensor_data is not None:\n",
    "            list_df_sensor_bielefeld_silvester_19_20.append(sensor_data)\n",
    "    except:\n",
    "        None\n",
    "df_sensor_bielefeld_silvester_19_20 = pd.concat(list_df_sensor_bielefeld_silvester_19_20)\n",
    "df_sensor_bielefeld_silvester_19_20 "
   ]
  },
  {
   "cell_type": "code",
   "execution_count": null,
   "metadata": {},
   "outputs": [],
   "source": [
    "# Plot mit P1\n",
    "fig = px.line(\n",
    "        df_sensor_bielefeld_silvester_19_20, \n",
    "        x=\"timestamp\", y=\"P1\", color=\"sensor_id\", line_group=\"sensor_id\", hover_name=\"sensor_id\",\n",
    "        line_shape=\"spline\", render_mode=\"svg\", template=\"plotly_white\"\n",
    ")\n",
    "fig.show()"
   ]
  },
  {
   "cell_type": "code",
   "execution_count": null,
   "metadata": {},
   "outputs": [],
   "source": [
    "# Plot mit P2\n",
    "fig = px.line(\n",
    "        df_sensor_bielefeld_silvester_19_20, \n",
    "        x=\"timestamp\", y=\"P2\", color=\"sensor_id\", line_group=\"sensor_id\", hover_name=\"sensor_id\",\n",
    "        line_shape=\"spline\", render_mode=\"svg\", template=\"plotly_white\"\n",
    ")\n",
    "fig.show()"
   ]
  },
  {
   "attachments": {},
   "cell_type": "markdown",
   "metadata": {},
   "source": [
    "<span style=\"font-size:4em;\">Danke für das Interesse und die Aufmerksamkeit!</span>\n",
    "\n",
    "<span style=\"font-size:4em;\">Happy Coding :)</span>"
   ]
  }
 ],
 "metadata": {
  "kernelspec": {
   "display_name": "base",
   "language": "python",
   "name": "python3"
  },
  "language_info": {
   "codemirror_mode": {
    "name": "ipython",
    "version": 3
   },
   "file_extension": ".py",
   "mimetype": "text/x-python",
   "name": "python",
   "nbconvert_exporter": "python",
   "pygments_lexer": "ipython3",
   "version": "3.9.13"
  },
  "vscode": {
   "interpreter": {
    "hash": "7be7974eb56604dc519c6e03de3be2db2908d6cea1fead9636d1bd58d7ace9ff"
   }
  }
 },
 "nbformat": 4,
 "nbformat_minor": 2
}
